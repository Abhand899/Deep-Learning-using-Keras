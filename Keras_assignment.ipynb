{
 "cells": [
  {
   "cell_type": "markdown",
   "metadata": {},
   "source": [
    "# Regression Model Using Keras"
   ]
  },
  {
   "cell_type": "markdown",
   "metadata": {},
   "source": [
    "Import the required libraries"
   ]
  },
  {
   "cell_type": "code",
   "execution_count": 1,
   "metadata": {},
   "outputs": [],
   "source": [
    "import pandas as pd\n",
    "import numpy as np"
   ]
  },
  {
   "cell_type": "code",
   "execution_count": 2,
   "metadata": {},
   "outputs": [
    {
     "name": "stderr",
     "output_type": "stream",
     "text": [
      "Using TensorFlow backend.\n",
      "/home/jupyterlab/conda/envs/python/lib/python3.6/site-packages/tensorflow/python/framework/dtypes.py:519: FutureWarning: Passing (type, 1) or '1type' as a synonym of type is deprecated; in a future version of numpy, it will be understood as (type, (1,)) / '(1,)type'.\n",
      "  _np_qint8 = np.dtype([(\"qint8\", np.int8, 1)])\n",
      "/home/jupyterlab/conda/envs/python/lib/python3.6/site-packages/tensorflow/python/framework/dtypes.py:520: FutureWarning: Passing (type, 1) or '1type' as a synonym of type is deprecated; in a future version of numpy, it will be understood as (type, (1,)) / '(1,)type'.\n",
      "  _np_quint8 = np.dtype([(\"quint8\", np.uint8, 1)])\n",
      "/home/jupyterlab/conda/envs/python/lib/python3.6/site-packages/tensorflow/python/framework/dtypes.py:521: FutureWarning: Passing (type, 1) or '1type' as a synonym of type is deprecated; in a future version of numpy, it will be understood as (type, (1,)) / '(1,)type'.\n",
      "  _np_qint16 = np.dtype([(\"qint16\", np.int16, 1)])\n",
      "/home/jupyterlab/conda/envs/python/lib/python3.6/site-packages/tensorflow/python/framework/dtypes.py:522: FutureWarning: Passing (type, 1) or '1type' as a synonym of type is deprecated; in a future version of numpy, it will be understood as (type, (1,)) / '(1,)type'.\n",
      "  _np_quint16 = np.dtype([(\"quint16\", np.uint16, 1)])\n",
      "/home/jupyterlab/conda/envs/python/lib/python3.6/site-packages/tensorflow/python/framework/dtypes.py:523: FutureWarning: Passing (type, 1) or '1type' as a synonym of type is deprecated; in a future version of numpy, it will be understood as (type, (1,)) / '(1,)type'.\n",
      "  _np_qint32 = np.dtype([(\"qint32\", np.int32, 1)])\n",
      "/home/jupyterlab/conda/envs/python/lib/python3.6/site-packages/tensorflow/python/framework/dtypes.py:528: FutureWarning: Passing (type, 1) or '1type' as a synonym of type is deprecated; in a future version of numpy, it will be understood as (type, (1,)) / '(1,)type'.\n",
      "  np_resource = np.dtype([(\"resource\", np.ubyte, 1)])\n"
     ]
    }
   ],
   "source": [
    "import keras"
   ]
  },
  {
   "cell_type": "code",
   "execution_count": 3,
   "metadata": {},
   "outputs": [],
   "source": [
    "from keras.models import Sequential\n",
    "from keras.layers import Dense\n",
    "from sklearn.model_selection import train_test_split\n",
    "from sklearn.metrics import mean_squared_error\n",
    "from sklearn import preprocessing"
   ]
  },
  {
   "cell_type": "code",
   "execution_count": 4,
   "metadata": {},
   "outputs": [
    {
     "data": {
      "text/html": [
       "<div>\n",
       "<style scoped>\n",
       "    .dataframe tbody tr th:only-of-type {\n",
       "        vertical-align: middle;\n",
       "    }\n",
       "\n",
       "    .dataframe tbody tr th {\n",
       "        vertical-align: top;\n",
       "    }\n",
       "\n",
       "    .dataframe thead th {\n",
       "        text-align: right;\n",
       "    }\n",
       "</style>\n",
       "<table border=\"1\" class=\"dataframe\">\n",
       "  <thead>\n",
       "    <tr style=\"text-align: right;\">\n",
       "      <th></th>\n",
       "      <th>Cement</th>\n",
       "      <th>Blast Furnace Slag</th>\n",
       "      <th>Fly Ash</th>\n",
       "      <th>Water</th>\n",
       "      <th>Superplasticizer</th>\n",
       "      <th>Coarse Aggregate</th>\n",
       "      <th>Fine Aggregate</th>\n",
       "      <th>Age</th>\n",
       "      <th>Strength</th>\n",
       "    </tr>\n",
       "  </thead>\n",
       "  <tbody>\n",
       "    <tr>\n",
       "      <th>0</th>\n",
       "      <td>540.0</td>\n",
       "      <td>0.0</td>\n",
       "      <td>0.0</td>\n",
       "      <td>162.0</td>\n",
       "      <td>2.5</td>\n",
       "      <td>1040.0</td>\n",
       "      <td>676.0</td>\n",
       "      <td>28</td>\n",
       "      <td>79.99</td>\n",
       "    </tr>\n",
       "    <tr>\n",
       "      <th>1</th>\n",
       "      <td>540.0</td>\n",
       "      <td>0.0</td>\n",
       "      <td>0.0</td>\n",
       "      <td>162.0</td>\n",
       "      <td>2.5</td>\n",
       "      <td>1055.0</td>\n",
       "      <td>676.0</td>\n",
       "      <td>28</td>\n",
       "      <td>61.89</td>\n",
       "    </tr>\n",
       "    <tr>\n",
       "      <th>2</th>\n",
       "      <td>332.5</td>\n",
       "      <td>142.5</td>\n",
       "      <td>0.0</td>\n",
       "      <td>228.0</td>\n",
       "      <td>0.0</td>\n",
       "      <td>932.0</td>\n",
       "      <td>594.0</td>\n",
       "      <td>270</td>\n",
       "      <td>40.27</td>\n",
       "    </tr>\n",
       "    <tr>\n",
       "      <th>3</th>\n",
       "      <td>332.5</td>\n",
       "      <td>142.5</td>\n",
       "      <td>0.0</td>\n",
       "      <td>228.0</td>\n",
       "      <td>0.0</td>\n",
       "      <td>932.0</td>\n",
       "      <td>594.0</td>\n",
       "      <td>365</td>\n",
       "      <td>41.05</td>\n",
       "    </tr>\n",
       "    <tr>\n",
       "      <th>4</th>\n",
       "      <td>198.6</td>\n",
       "      <td>132.4</td>\n",
       "      <td>0.0</td>\n",
       "      <td>192.0</td>\n",
       "      <td>0.0</td>\n",
       "      <td>978.4</td>\n",
       "      <td>825.5</td>\n",
       "      <td>360</td>\n",
       "      <td>44.30</td>\n",
       "    </tr>\n",
       "  </tbody>\n",
       "</table>\n",
       "</div>"
      ],
      "text/plain": [
       "   Cement  Blast Furnace Slag  Fly Ash  Water  Superplasticizer  \\\n",
       "0   540.0                 0.0      0.0  162.0               2.5   \n",
       "1   540.0                 0.0      0.0  162.0               2.5   \n",
       "2   332.5               142.5      0.0  228.0               0.0   \n",
       "3   332.5               142.5      0.0  228.0               0.0   \n",
       "4   198.6               132.4      0.0  192.0               0.0   \n",
       "\n",
       "   Coarse Aggregate  Fine Aggregate  Age  Strength  \n",
       "0            1040.0           676.0   28     79.99  \n",
       "1            1055.0           676.0   28     61.89  \n",
       "2             932.0           594.0  270     40.27  \n",
       "3             932.0           594.0  365     41.05  \n",
       "4             978.4           825.5  360     44.30  "
      ]
     },
     "execution_count": 4,
     "metadata": {},
     "output_type": "execute_result"
    }
   ],
   "source": [
    "concrete_data = pd.read_csv('https://s3-api.us-geo.objectstorage.softlayer.net/cf-courses-data/CognitiveClass/DL0101EN/labs/data/concrete_data.csv')\n",
    "concrete_data.head()"
   ]
  },
  {
   "cell_type": "code",
   "execution_count": 5,
   "metadata": {},
   "outputs": [
    {
     "data": {
      "text/plain": [
       "(1030, 9)"
      ]
     },
     "execution_count": 5,
     "metadata": {},
     "output_type": "execute_result"
    }
   ],
   "source": [
    "concrete_data.shape # shape of the datasets"
   ]
  },
  {
   "cell_type": "markdown",
   "metadata": {},
   "source": [
    "Checking the datasets for any missing values by using descibe() method."
   ]
  },
  {
   "cell_type": "code",
   "execution_count": 6,
   "metadata": {},
   "outputs": [
    {
     "data": {
      "text/html": [
       "<div>\n",
       "<style scoped>\n",
       "    .dataframe tbody tr th:only-of-type {\n",
       "        vertical-align: middle;\n",
       "    }\n",
       "\n",
       "    .dataframe tbody tr th {\n",
       "        vertical-align: top;\n",
       "    }\n",
       "\n",
       "    .dataframe thead th {\n",
       "        text-align: right;\n",
       "    }\n",
       "</style>\n",
       "<table border=\"1\" class=\"dataframe\">\n",
       "  <thead>\n",
       "    <tr style=\"text-align: right;\">\n",
       "      <th></th>\n",
       "      <th>Cement</th>\n",
       "      <th>Blast Furnace Slag</th>\n",
       "      <th>Fly Ash</th>\n",
       "      <th>Water</th>\n",
       "      <th>Superplasticizer</th>\n",
       "      <th>Coarse Aggregate</th>\n",
       "      <th>Fine Aggregate</th>\n",
       "      <th>Age</th>\n",
       "      <th>Strength</th>\n",
       "    </tr>\n",
       "  </thead>\n",
       "  <tbody>\n",
       "    <tr>\n",
       "      <th>count</th>\n",
       "      <td>1030.000000</td>\n",
       "      <td>1030.000000</td>\n",
       "      <td>1030.000000</td>\n",
       "      <td>1030.000000</td>\n",
       "      <td>1030.000000</td>\n",
       "      <td>1030.000000</td>\n",
       "      <td>1030.000000</td>\n",
       "      <td>1030.000000</td>\n",
       "      <td>1030.000000</td>\n",
       "    </tr>\n",
       "    <tr>\n",
       "      <th>mean</th>\n",
       "      <td>281.167864</td>\n",
       "      <td>73.895825</td>\n",
       "      <td>54.188350</td>\n",
       "      <td>181.567282</td>\n",
       "      <td>6.204660</td>\n",
       "      <td>972.918932</td>\n",
       "      <td>773.580485</td>\n",
       "      <td>45.662136</td>\n",
       "      <td>35.817961</td>\n",
       "    </tr>\n",
       "    <tr>\n",
       "      <th>std</th>\n",
       "      <td>104.506364</td>\n",
       "      <td>86.279342</td>\n",
       "      <td>63.997004</td>\n",
       "      <td>21.354219</td>\n",
       "      <td>5.973841</td>\n",
       "      <td>77.753954</td>\n",
       "      <td>80.175980</td>\n",
       "      <td>63.169912</td>\n",
       "      <td>16.705742</td>\n",
       "    </tr>\n",
       "    <tr>\n",
       "      <th>min</th>\n",
       "      <td>102.000000</td>\n",
       "      <td>0.000000</td>\n",
       "      <td>0.000000</td>\n",
       "      <td>121.800000</td>\n",
       "      <td>0.000000</td>\n",
       "      <td>801.000000</td>\n",
       "      <td>594.000000</td>\n",
       "      <td>1.000000</td>\n",
       "      <td>2.330000</td>\n",
       "    </tr>\n",
       "    <tr>\n",
       "      <th>25%</th>\n",
       "      <td>192.375000</td>\n",
       "      <td>0.000000</td>\n",
       "      <td>0.000000</td>\n",
       "      <td>164.900000</td>\n",
       "      <td>0.000000</td>\n",
       "      <td>932.000000</td>\n",
       "      <td>730.950000</td>\n",
       "      <td>7.000000</td>\n",
       "      <td>23.710000</td>\n",
       "    </tr>\n",
       "    <tr>\n",
       "      <th>50%</th>\n",
       "      <td>272.900000</td>\n",
       "      <td>22.000000</td>\n",
       "      <td>0.000000</td>\n",
       "      <td>185.000000</td>\n",
       "      <td>6.400000</td>\n",
       "      <td>968.000000</td>\n",
       "      <td>779.500000</td>\n",
       "      <td>28.000000</td>\n",
       "      <td>34.445000</td>\n",
       "    </tr>\n",
       "    <tr>\n",
       "      <th>75%</th>\n",
       "      <td>350.000000</td>\n",
       "      <td>142.950000</td>\n",
       "      <td>118.300000</td>\n",
       "      <td>192.000000</td>\n",
       "      <td>10.200000</td>\n",
       "      <td>1029.400000</td>\n",
       "      <td>824.000000</td>\n",
       "      <td>56.000000</td>\n",
       "      <td>46.135000</td>\n",
       "    </tr>\n",
       "    <tr>\n",
       "      <th>max</th>\n",
       "      <td>540.000000</td>\n",
       "      <td>359.400000</td>\n",
       "      <td>200.100000</td>\n",
       "      <td>247.000000</td>\n",
       "      <td>32.200000</td>\n",
       "      <td>1145.000000</td>\n",
       "      <td>992.600000</td>\n",
       "      <td>365.000000</td>\n",
       "      <td>82.600000</td>\n",
       "    </tr>\n",
       "  </tbody>\n",
       "</table>\n",
       "</div>"
      ],
      "text/plain": [
       "            Cement  Blast Furnace Slag      Fly Ash        Water  \\\n",
       "count  1030.000000         1030.000000  1030.000000  1030.000000   \n",
       "mean    281.167864           73.895825    54.188350   181.567282   \n",
       "std     104.506364           86.279342    63.997004    21.354219   \n",
       "min     102.000000            0.000000     0.000000   121.800000   \n",
       "25%     192.375000            0.000000     0.000000   164.900000   \n",
       "50%     272.900000           22.000000     0.000000   185.000000   \n",
       "75%     350.000000          142.950000   118.300000   192.000000   \n",
       "max     540.000000          359.400000   200.100000   247.000000   \n",
       "\n",
       "       Superplasticizer  Coarse Aggregate  Fine Aggregate          Age  \\\n",
       "count       1030.000000       1030.000000     1030.000000  1030.000000   \n",
       "mean           6.204660        972.918932      773.580485    45.662136   \n",
       "std            5.973841         77.753954       80.175980    63.169912   \n",
       "min            0.000000        801.000000      594.000000     1.000000   \n",
       "25%            0.000000        932.000000      730.950000     7.000000   \n",
       "50%            6.400000        968.000000      779.500000    28.000000   \n",
       "75%           10.200000       1029.400000      824.000000    56.000000   \n",
       "max           32.200000       1145.000000      992.600000   365.000000   \n",
       "\n",
       "          Strength  \n",
       "count  1030.000000  \n",
       "mean     35.817961  \n",
       "std      16.705742  \n",
       "min       2.330000  \n",
       "25%      23.710000  \n",
       "50%      34.445000  \n",
       "75%      46.135000  \n",
       "max      82.600000  "
      ]
     },
     "execution_count": 6,
     "metadata": {},
     "output_type": "execute_result"
    }
   ],
   "source": [
    "concrete_data.describe()"
   ]
  },
  {
   "cell_type": "code",
   "execution_count": 7,
   "metadata": {},
   "outputs": [
    {
     "data": {
      "text/plain": [
       "Cement                0\n",
       "Blast Furnace Slag    0\n",
       "Fly Ash               0\n",
       "Water                 0\n",
       "Superplasticizer      0\n",
       "Coarse Aggregate      0\n",
       "Fine Aggregate        0\n",
       "Age                   0\n",
       "Strength              0\n",
       "dtype: int64"
      ]
     },
     "execution_count": 7,
     "metadata": {},
     "output_type": "execute_result"
    }
   ],
   "source": [
    "concrete_data.isnull().sum()"
   ]
  },
  {
   "cell_type": "markdown",
   "metadata": {},
   "source": [
    "As we can see there is no missing values in the datasets. So we are read to build the regression model using keras."
   ]
  },
  {
   "cell_type": "markdown",
   "metadata": {},
   "source": [
    "### Splitting datasets into predictors and target "
   ]
  },
  {
   "cell_type": "markdown",
   "metadata": {},
   "source": [
    "Here the target variable is the Strength and all columns except strength is the predictors."
   ]
  },
  {
   "cell_type": "code",
   "execution_count": 8,
   "metadata": {},
   "outputs": [],
   "source": [
    "concrete_data_columns = concrete_data.columns\n",
    "\n",
    "predictors = concrete_data[concrete_data_columns[concrete_data_columns != 'Strength']] # all columns except Strength\n",
    "target = concrete_data['Strength'] # Strength column"
   ]
  },
  {
   "cell_type": "code",
   "execution_count": 9,
   "metadata": {},
   "outputs": [
    {
     "data": {
      "text/html": [
       "<div>\n",
       "<style scoped>\n",
       "    .dataframe tbody tr th:only-of-type {\n",
       "        vertical-align: middle;\n",
       "    }\n",
       "\n",
       "    .dataframe tbody tr th {\n",
       "        vertical-align: top;\n",
       "    }\n",
       "\n",
       "    .dataframe thead th {\n",
       "        text-align: right;\n",
       "    }\n",
       "</style>\n",
       "<table border=\"1\" class=\"dataframe\">\n",
       "  <thead>\n",
       "    <tr style=\"text-align: right;\">\n",
       "      <th></th>\n",
       "      <th>Cement</th>\n",
       "      <th>Blast Furnace Slag</th>\n",
       "      <th>Fly Ash</th>\n",
       "      <th>Water</th>\n",
       "      <th>Superplasticizer</th>\n",
       "      <th>Coarse Aggregate</th>\n",
       "      <th>Fine Aggregate</th>\n",
       "      <th>Age</th>\n",
       "    </tr>\n",
       "  </thead>\n",
       "  <tbody>\n",
       "    <tr>\n",
       "      <th>0</th>\n",
       "      <td>540.0</td>\n",
       "      <td>0.0</td>\n",
       "      <td>0.0</td>\n",
       "      <td>162.0</td>\n",
       "      <td>2.5</td>\n",
       "      <td>1040.0</td>\n",
       "      <td>676.0</td>\n",
       "      <td>28</td>\n",
       "    </tr>\n",
       "    <tr>\n",
       "      <th>1</th>\n",
       "      <td>540.0</td>\n",
       "      <td>0.0</td>\n",
       "      <td>0.0</td>\n",
       "      <td>162.0</td>\n",
       "      <td>2.5</td>\n",
       "      <td>1055.0</td>\n",
       "      <td>676.0</td>\n",
       "      <td>28</td>\n",
       "    </tr>\n",
       "    <tr>\n",
       "      <th>2</th>\n",
       "      <td>332.5</td>\n",
       "      <td>142.5</td>\n",
       "      <td>0.0</td>\n",
       "      <td>228.0</td>\n",
       "      <td>0.0</td>\n",
       "      <td>932.0</td>\n",
       "      <td>594.0</td>\n",
       "      <td>270</td>\n",
       "    </tr>\n",
       "    <tr>\n",
       "      <th>3</th>\n",
       "      <td>332.5</td>\n",
       "      <td>142.5</td>\n",
       "      <td>0.0</td>\n",
       "      <td>228.0</td>\n",
       "      <td>0.0</td>\n",
       "      <td>932.0</td>\n",
       "      <td>594.0</td>\n",
       "      <td>365</td>\n",
       "    </tr>\n",
       "    <tr>\n",
       "      <th>4</th>\n",
       "      <td>198.6</td>\n",
       "      <td>132.4</td>\n",
       "      <td>0.0</td>\n",
       "      <td>192.0</td>\n",
       "      <td>0.0</td>\n",
       "      <td>978.4</td>\n",
       "      <td>825.5</td>\n",
       "      <td>360</td>\n",
       "    </tr>\n",
       "  </tbody>\n",
       "</table>\n",
       "</div>"
      ],
      "text/plain": [
       "   Cement  Blast Furnace Slag  Fly Ash  Water  Superplasticizer  \\\n",
       "0   540.0                 0.0      0.0  162.0               2.5   \n",
       "1   540.0                 0.0      0.0  162.0               2.5   \n",
       "2   332.5               142.5      0.0  228.0               0.0   \n",
       "3   332.5               142.5      0.0  228.0               0.0   \n",
       "4   198.6               132.4      0.0  192.0               0.0   \n",
       "\n",
       "   Coarse Aggregate  Fine Aggregate  Age  \n",
       "0            1040.0           676.0   28  \n",
       "1            1055.0           676.0   28  \n",
       "2             932.0           594.0  270  \n",
       "3             932.0           594.0  365  \n",
       "4             978.4           825.5  360  "
      ]
     },
     "execution_count": 9,
     "metadata": {},
     "output_type": "execute_result"
    }
   ],
   "source": [
    "predictors.head()"
   ]
  },
  {
   "cell_type": "code",
   "execution_count": 28,
   "metadata": {},
   "outputs": [
    {
     "data": {
      "text/plain": [
       "0    79.99\n",
       "1    61.89\n",
       "2    40.27\n",
       "3    41.05\n",
       "4    44.30\n",
       "Name: Strength, dtype: float64"
      ]
     },
     "execution_count": 28,
     "metadata": {},
     "output_type": "execute_result"
    }
   ],
   "source": [
    "target.head()"
   ]
  },
  {
   "cell_type": "markdown",
   "metadata": {},
   "source": [
    "## A. Build a Baseline model "
   ]
  },
  {
   "cell_type": "markdown",
   "metadata": {},
   "source": [
    "Use the Keras library to build a neural network with the following:\n",
    "\n",
    "- One hidden layer of 10 nodes, and a ReLU activation function\n",
    "\n",
    "- Use the adam optimizer and the mean squared error  as the loss function.\n",
    "\n",
    "1. Randomly split the data into a training and test sets by holding 30% of the data for testing. You can use the train_test_splithelper function from Scikit-learn.\n",
    "\n",
    "2. Train the model on the training data using 50 epochs.\n",
    "\n",
    "3. Evaluate the model on the test data and compute the mean squared error between the predicted concrete strength and the actual concrete strength. You can use the mean_squared_error function from Scikit-learn.\n",
    "\n",
    "4. Repeat steps 1 - 3, 50 times, i.e., create a list of 50 mean squared errors.\n",
    "\n",
    "5. Report the mean and the standard deviation of the mean squared errors."
   ]
  },
  {
   "cell_type": "code",
   "execution_count": 24,
   "metadata": {},
   "outputs": [],
   "source": [
    "# define regression model\n",
    "ncols=predictors.shape[1]\n",
    "def regression_model():\n",
    "    # create model\n",
    "    model = Sequential()\n",
    "    model.add(Dense(10, activation='relu', input_shape=(ncols,)))\n",
    "    model.add(Dense(1))\n",
    "    \n",
    "    # compile model\n",
    "    model.compile(optimizer='adam', loss='mean_squared_error')\n",
    "    return model"
   ]
  },
  {
   "cell_type": "markdown",
   "metadata": {},
   "source": [
    "## Train and test the network"
   ]
  },
  {
   "cell_type": "code",
   "execution_count": 29,
   "metadata": {},
   "outputs": [],
   "source": [
    "model=regression_model()"
   ]
  },
  {
   "cell_type": "code",
   "execution_count": 30,
   "metadata": {},
   "outputs": [
    {
     "name": "stdout",
     "output_type": "stream",
     "text": [
      " Epoch 1 : mean_squared_error = 376.09999800499975 \n",
      " Epoch 2 : mean_squared_error = 76.27648970224325 \n",
      " Epoch 3 : mean_squared_error = 78.5992853109119 \n",
      " Epoch 4 : mean_squared_error = 66.29280242179205 \n",
      " Epoch 5 : mean_squared_error = 63.95407272388248 \n",
      " Epoch 6 : mean_squared_error = 60.25543820279316 \n",
      " Epoch 7 : mean_squared_error = 55.496926786058545 \n",
      " Epoch 8 : mean_squared_error = 43.99102012856493 \n",
      " Epoch 9 : mean_squared_error = 45.9592416510227 \n",
      " Epoch 10 : mean_squared_error = 54.98985430029218 \n",
      " Epoch 11 : mean_squared_error = 46.00450751542274 \n",
      " Epoch 12 : mean_squared_error = 49.67146088930395 \n",
      " Epoch 13 : mean_squared_error = 51.354820165047755 \n",
      " Epoch 14 : mean_squared_error = 48.800590391683734 \n",
      " Epoch 15 : mean_squared_error = 55.53482118625085 \n",
      " Epoch 16 : mean_squared_error = 48.70208662458994 \n",
      " Epoch 17 : mean_squared_error = 48.204252668954794 \n",
      " Epoch 18 : mean_squared_error = 42.771659184428096 \n",
      " Epoch 19 : mean_squared_error = 49.70988322384535 \n",
      " Epoch 20 : mean_squared_error = 48.3461070878606 \n",
      " Epoch 21 : mean_squared_error = 45.67985426646606 \n",
      " Epoch 22 : mean_squared_error = 56.010778606130856 \n",
      " Epoch 23 : mean_squared_error = 47.518923565022 \n",
      " Epoch 24 : mean_squared_error = 58.59848644663987 \n",
      " Epoch 25 : mean_squared_error = 68.11438405552343 \n",
      " Epoch 26 : mean_squared_error = 43.76986874577297 \n",
      " Epoch 27 : mean_squared_error = 44.670246753877805 \n",
      " Epoch 28 : mean_squared_error = 50.56413462864157 \n",
      " Epoch 29 : mean_squared_error = 47.5510482047368 \n",
      " Epoch 30 : mean_squared_error = 47.66172158448056 \n",
      " Epoch 31 : mean_squared_error = 47.31368653133849 \n",
      " Epoch 32 : mean_squared_error = 42.179087654286604 \n",
      " Epoch 33 : mean_squared_error = 46.504169686326705 \n",
      " Epoch 34 : mean_squared_error = 45.991534927516305 \n",
      " Epoch 35 : mean_squared_error = 54.422687295956905 \n",
      " Epoch 36 : mean_squared_error = 51.38941270402334 \n",
      " Epoch 37 : mean_squared_error = 53.651338398263675 \n",
      " Epoch 38 : mean_squared_error = 59.61250213820572 \n",
      " Epoch 39 : mean_squared_error = 49.040586132061904 \n",
      " Epoch 40 : mean_squared_error = 56.941734363346036 \n",
      " Epoch 41 : mean_squared_error = 44.78021453190776 \n",
      " Epoch 42 : mean_squared_error = 49.50322275254333 \n",
      " Epoch 43 : mean_squared_error = 43.08448435959307 \n",
      " Epoch 44 : mean_squared_error = 53.46288037222952 \n",
      " Epoch 45 : mean_squared_error = 47.31535522065888 \n",
      " Epoch 46 : mean_squared_error = 45.20555657321967 \n",
      " Epoch 47 : mean_squared_error = 52.613423640673986 \n",
      " Epoch 48 : mean_squared_error = 48.38307560300364 \n",
      " Epoch 49 : mean_squared_error = 50.15597786023779 \n",
      " Epoch 50 : mean_squared_error = 50.10695892630272 \n"
     ]
    }
   ],
   "source": [
    "list_of_mean_squared_error=[]\n",
    "for i in range(50):\n",
    "    xtrain,xtest,ytrain,ytest=train_test_split(predictors,target,test_size=0.3) # spliting datasets into training(70%) and testing set(30%)\n",
    "    res=model.fit(xtrain,ytrain, epochs=50,verbose=0,validation_data=(xtest,ytest))# storing the value in variable res\n",
    "    mean_squared_error=res.history['val_loss'][-1]\n",
    "    # Adding a value of mean_squared_error in the list \n",
    "    list_of_mean_squared_error.append(mean_squared_error)\n",
    "    print(\" Epoch {} : mean_squared_error = {} \".format(i+1,mean_squared_error))\n",
    "    "
   ]
  },
  {
   "cell_type": "markdown",
   "metadata": {},
   "source": [
    "Mean and standard deviation of the mean squared errors "
   ]
  },
  {
   "cell_type": "code",
   "execution_count": 32,
   "metadata": {},
   "outputs": [
    {
     "name": "stdout",
     "output_type": "stream",
     "text": [
      "Mean of the mean squared errors =  58.25625309397873\n",
      "Standard deviation of the mean squared errors =  46.079529842090174\n"
     ]
    }
   ],
   "source": [
    "print(\"Mean of the mean squared errors = \",np.mean(list_of_mean_squared_error))\n",
    "print(\"Standard deviation of the mean squared errors = \",np.std(list_of_mean_squared_error))"
   ]
  },
  {
   "cell_type": "markdown",
   "metadata": {},
   "source": [
    "## B. Normalize the Data"
   ]
  },
  {
   "cell_type": "markdown",
   "metadata": {},
   "source": [
    "Repeat Part A but use a normalized version of the data. Recall that one way to normalize the data is by subtracting the mean from the individual predictors and dividing by the standard deviation.\n",
    "\n",
    "How does the mean of the mean squared errors compare to that from Step A?"
   ]
  },
  {
   "cell_type": "code",
   "execution_count": 19,
   "metadata": {},
   "outputs": [
    {
     "data": {
      "text/html": [
       "<div>\n",
       "<style scoped>\n",
       "    .dataframe tbody tr th:only-of-type {\n",
       "        vertical-align: middle;\n",
       "    }\n",
       "\n",
       "    .dataframe tbody tr th {\n",
       "        vertical-align: top;\n",
       "    }\n",
       "\n",
       "    .dataframe thead th {\n",
       "        text-align: right;\n",
       "    }\n",
       "</style>\n",
       "<table border=\"1\" class=\"dataframe\">\n",
       "  <thead>\n",
       "    <tr style=\"text-align: right;\">\n",
       "      <th></th>\n",
       "      <th>Cement</th>\n",
       "      <th>Blast Furnace Slag</th>\n",
       "      <th>Fly Ash</th>\n",
       "      <th>Water</th>\n",
       "      <th>Superplasticizer</th>\n",
       "      <th>Coarse Aggregate</th>\n",
       "      <th>Fine Aggregate</th>\n",
       "      <th>Age</th>\n",
       "    </tr>\n",
       "  </thead>\n",
       "  <tbody>\n",
       "    <tr>\n",
       "      <th>0</th>\n",
       "      <td>2.476712</td>\n",
       "      <td>-0.856472</td>\n",
       "      <td>-0.846733</td>\n",
       "      <td>-0.916319</td>\n",
       "      <td>-0.620147</td>\n",
       "      <td>0.862735</td>\n",
       "      <td>-1.217079</td>\n",
       "      <td>-0.279597</td>\n",
       "    </tr>\n",
       "    <tr>\n",
       "      <th>1</th>\n",
       "      <td>2.476712</td>\n",
       "      <td>-0.856472</td>\n",
       "      <td>-0.846733</td>\n",
       "      <td>-0.916319</td>\n",
       "      <td>-0.620147</td>\n",
       "      <td>1.055651</td>\n",
       "      <td>-1.217079</td>\n",
       "      <td>-0.279597</td>\n",
       "    </tr>\n",
       "    <tr>\n",
       "      <th>2</th>\n",
       "      <td>0.491187</td>\n",
       "      <td>0.795140</td>\n",
       "      <td>-0.846733</td>\n",
       "      <td>2.174405</td>\n",
       "      <td>-1.038638</td>\n",
       "      <td>-0.526262</td>\n",
       "      <td>-2.239829</td>\n",
       "      <td>3.551340</td>\n",
       "    </tr>\n",
       "    <tr>\n",
       "      <th>3</th>\n",
       "      <td>0.491187</td>\n",
       "      <td>0.795140</td>\n",
       "      <td>-0.846733</td>\n",
       "      <td>2.174405</td>\n",
       "      <td>-1.038638</td>\n",
       "      <td>-0.526262</td>\n",
       "      <td>-2.239829</td>\n",
       "      <td>5.055221</td>\n",
       "    </tr>\n",
       "    <tr>\n",
       "      <th>4</th>\n",
       "      <td>-0.790075</td>\n",
       "      <td>0.678079</td>\n",
       "      <td>-0.846733</td>\n",
       "      <td>0.488555</td>\n",
       "      <td>-1.038638</td>\n",
       "      <td>0.070492</td>\n",
       "      <td>0.647569</td>\n",
       "      <td>4.976069</td>\n",
       "    </tr>\n",
       "  </tbody>\n",
       "</table>\n",
       "</div>"
      ],
      "text/plain": [
       "     Cement  Blast Furnace Slag   Fly Ash     Water  Superplasticizer  \\\n",
       "0  2.476712           -0.856472 -0.846733 -0.916319         -0.620147   \n",
       "1  2.476712           -0.856472 -0.846733 -0.916319         -0.620147   \n",
       "2  0.491187            0.795140 -0.846733  2.174405         -1.038638   \n",
       "3  0.491187            0.795140 -0.846733  2.174405         -1.038638   \n",
       "4 -0.790075            0.678079 -0.846733  0.488555         -1.038638   \n",
       "\n",
       "   Coarse Aggregate  Fine Aggregate       Age  \n",
       "0          0.862735       -1.217079 -0.279597  \n",
       "1          1.055651       -1.217079 -0.279597  \n",
       "2         -0.526262       -2.239829  3.551340  \n",
       "3         -0.526262       -2.239829  5.055221  \n",
       "4          0.070492        0.647569  4.976069  "
      ]
     },
     "execution_count": 19,
     "metadata": {},
     "output_type": "execute_result"
    }
   ],
   "source": [
    "predictors_norm = (predictors - predictors.mean()) / predictors.std()\n",
    "predictors_norm.head()"
   ]
  },
  {
   "cell_type": "code",
   "execution_count": 20,
   "metadata": {},
   "outputs": [],
   "source": [
    "ncols=predictors_norm.shape[1]\n",
    "def regression_model2():\n",
    "    # create model\n",
    "    model = Sequential()\n",
    "    model.add(Dense(10, activation='relu', input_shape=(ncols,)))\n",
    "    model.add(Dense(1))\n",
    "    \n",
    "    # compile model\n",
    "    model.compile(optimizer='adam', loss='mean_squared_error')\n",
    "    return model"
   ]
  },
  {
   "cell_type": "code",
   "execution_count": 21,
   "metadata": {},
   "outputs": [],
   "source": [
    "model2=regression_model2()"
   ]
  },
  {
   "cell_type": "code",
   "execution_count": 22,
   "metadata": {},
   "outputs": [
    {
     "name": "stdout",
     "output_type": "stream",
     "text": [
      " Epoch 1 : mean_squared_error = 198.04808824656465 \n",
      " Epoch 2 : mean_squared_error = 137.1582934925857 \n",
      " Epoch 3 : mean_squared_error = 107.88525279517313 \n",
      " Epoch 4 : mean_squared_error = 66.464994782383 \n",
      " Epoch 5 : mean_squared_error = 59.08745892225346 \n",
      " Epoch 6 : mean_squared_error = 56.311338183949296 \n",
      " Epoch 7 : mean_squared_error = 49.67347796295067 \n",
      " Epoch 8 : mean_squared_error = 43.466706001257045 \n",
      " Epoch 9 : mean_squared_error = 37.5378743267368 \n",
      " Epoch 10 : mean_squared_error = 39.80992222758173 \n",
      " Epoch 11 : mean_squared_error = 38.2298899777113 \n",
      " Epoch 12 : mean_squared_error = 38.28047851760025 \n",
      " Epoch 13 : mean_squared_error = 39.67984512477245 \n",
      " Epoch 14 : mean_squared_error = 40.96007662529313 \n",
      " Epoch 15 : mean_squared_error = 34.79046568515617 \n",
      " Epoch 16 : mean_squared_error = 40.5866910446809 \n",
      " Epoch 17 : mean_squared_error = 39.44450479649417 \n",
      " Epoch 18 : mean_squared_error = 36.91650957274206 \n",
      " Epoch 19 : mean_squared_error = 41.77231502841592 \n",
      " Epoch 20 : mean_squared_error = 42.61819203694662 \n",
      " Epoch 21 : mean_squared_error = 34.14174023723911 \n",
      " Epoch 22 : mean_squared_error = 43.48942406663617 \n",
      " Epoch 23 : mean_squared_error = 38.572700543696826 \n",
      " Epoch 24 : mean_squared_error = 36.60973921099913 \n",
      " Epoch 25 : mean_squared_error = 38.56027924127177 \n",
      " Epoch 26 : mean_squared_error = 36.235208733567916 \n",
      " Epoch 27 : mean_squared_error = 39.30453752314003 \n",
      " Epoch 28 : mean_squared_error = 37.03337994671177 \n",
      " Epoch 29 : mean_squared_error = 35.81825557572942 \n",
      " Epoch 30 : mean_squared_error = 38.075513611333655 \n",
      " Epoch 31 : mean_squared_error = 39.91290059753221 \n",
      " Epoch 32 : mean_squared_error = 39.059624779957396 \n",
      " Epoch 33 : mean_squared_error = 41.100943259822515 \n",
      " Epoch 34 : mean_squared_error = 41.714611892947104 \n",
      " Epoch 35 : mean_squared_error = 31.05555130054264 \n",
      " Epoch 36 : mean_squared_error = 33.65448423959676 \n",
      " Epoch 37 : mean_squared_error = 43.15972907797804 \n",
      " Epoch 38 : mean_squared_error = 43.777813710826884 \n",
      " Epoch 39 : mean_squared_error = 37.58165654549707 \n",
      " Epoch 40 : mean_squared_error = 37.86686442353579 \n",
      " Epoch 41 : mean_squared_error = 36.65303380281023 \n",
      " Epoch 42 : mean_squared_error = 37.65428573954067 \n",
      " Epoch 43 : mean_squared_error = 35.7590595479922 \n",
      " Epoch 44 : mean_squared_error = 35.199609170068044 \n",
      " Epoch 45 : mean_squared_error = 35.235578098729206 \n",
      " Epoch 46 : mean_squared_error = 37.15193591071564 \n",
      " Epoch 47 : mean_squared_error = 31.17430570287612 \n",
      " Epoch 48 : mean_squared_error = 34.387178995076894 \n",
      " Epoch 49 : mean_squared_error = 37.73057585163795 \n",
      " Epoch 50 : mean_squared_error = 32.40693622576766 \n"
     ]
    }
   ],
   "source": [
    "list_of_mean_squared_error=[]\n",
    "for i in range(50):\n",
    "    xtrain,xtest,ytrain,ytest=train_test_split(predictors_norm,target,test_size=0.3) # spliting datasets into training(70%) and testing set(30%)\n",
    "    res=model.fit(xtrain,ytrain, epochs=50,verbose=0,validation_data=(xtest,ytest))# storing the value in variable res\n",
    "    mean_squared_error=res.history['val_loss'][-1]\n",
    "    # Adding a value of mean_squared_error in the list \n",
    "    list_of_mean_squared_error.append(mean_squared_error)\n",
    "    print(\" Epoch {} : mean_squared_error = {} \".format(i+1,mean_squared_error))"
   ]
  },
  {
   "cell_type": "markdown",
   "metadata": {},
   "source": [
    "Mean and standard deviation of the mean squared errors"
   ]
  },
  {
   "cell_type": "code",
   "execution_count": 23,
   "metadata": {},
   "outputs": [
    {
     "name": "stdout",
     "output_type": "stream",
     "text": [
      "Mean of the mean squared errors =  46.17599665830051\n",
      "Standard deviation of the mean squared errors =  27.980187285423995\n"
     ]
    }
   ],
   "source": [
    "print(\"Mean of the mean squared errors = \",np.mean(list_of_mean_squared_error))\n",
    "print(\"Standard deviation of the mean squared errors = \",np.std(list_of_mean_squared_error))"
   ]
  },
  {
   "cell_type": "markdown",
   "metadata": {},
   "source": [
    "#### The mean and the standard deviation of the mean squared errors in case A is more than in case B. But the difference is tiny. And in my opinion it's not a very good idea to compare result of two poor neural networks with one hidden layer only. Data normalization does not help a lot. Error is huge for both cases: A and B."
   ]
  },
  {
   "cell_type": "markdown",
   "metadata": {},
   "source": [
    "## C. Increase the number of epochs"
   ]
  },
  {
   "cell_type": "markdown",
   "metadata": {},
   "source": [
    "Repeat Part B but use 100 epochs this time for training.\n",
    "\n",
    "How does the mean of the mean squared errors compare to that from Step B?\n",
    "\n"
   ]
  },
  {
   "cell_type": "code",
   "execution_count": 34,
   "metadata": {},
   "outputs": [],
   "source": [
    "def regression_model3():\n",
    "    model3 = Sequential()\n",
    "    model3.add(Dense(10, activation='relu', input_shape=(ncols,)))\n",
    "    model3.add(Dense(1))\n",
    "    \n",
    "    model3.compile(optimizer='adam', loss='mean_squared_error')\n",
    "    return model3\n",
    "\n",
    "model3 = regression_model3()"
   ]
  },
  {
   "cell_type": "code",
   "execution_count": 35,
   "metadata": {},
   "outputs": [
    {
     "name": "stdout",
     "output_type": "stream",
     "text": [
      " Epoch 1 : mean_squared_error = 151.074944184436 \n",
      " Epoch 2 : mean_squared_error = 105.25281734528279 \n",
      " Epoch 3 : mean_squared_error = 96.882188938968 \n",
      " Epoch 4 : mean_squared_error = 71.221511124793 \n",
      " Epoch 5 : mean_squared_error = 54.0272725670083 \n",
      " Epoch 6 : mean_squared_error = 51.73688102154284 \n",
      " Epoch 7 : mean_squared_error = 39.77064759831598 \n",
      " Epoch 8 : mean_squared_error = 40.64334010151983 \n",
      " Epoch 9 : mean_squared_error = 37.71705388559879 \n",
      " Epoch 10 : mean_squared_error = 32.84514150033105 \n",
      " Epoch 11 : mean_squared_error = 45.05835991152668 \n",
      " Epoch 12 : mean_squared_error = 34.480482601425024 \n",
      " Epoch 13 : mean_squared_error = 41.22263474448985 \n",
      " Epoch 14 : mean_squared_error = 31.882426635347137 \n",
      " Epoch 15 : mean_squared_error = 38.31013603580808 \n",
      " Epoch 16 : mean_squared_error = 37.519990063022256 \n",
      " Epoch 17 : mean_squared_error = 37.08647084158987 \n",
      " Epoch 18 : mean_squared_error = 33.57780324448274 \n",
      " Epoch 19 : mean_squared_error = 36.855074799176556 \n",
      " Epoch 20 : mean_squared_error = 34.07453913518912 \n",
      " Epoch 21 : mean_squared_error = 30.371415486999314 \n",
      " Epoch 22 : mean_squared_error = 38.548619736359726 \n",
      " Epoch 23 : mean_squared_error = 34.45141699090359 \n",
      " Epoch 24 : mean_squared_error = 32.72530992131403 \n",
      " Epoch 25 : mean_squared_error = 40.12399937034039 \n",
      " Epoch 26 : mean_squared_error = 41.36421975194443 \n",
      " Epoch 27 : mean_squared_error = 33.03385711719303 \n",
      " Epoch 28 : mean_squared_error = 29.90171767052709 \n",
      " Epoch 29 : mean_squared_error = 35.175562799941375 \n",
      " Epoch 30 : mean_squared_error = 29.7746467837238 \n",
      " Epoch 31 : mean_squared_error = 39.03646197519642 \n",
      " Epoch 32 : mean_squared_error = 35.4171915270364 \n",
      " Epoch 33 : mean_squared_error = 35.24337414244618 \n",
      " Epoch 34 : mean_squared_error = 38.54377191043594 \n",
      " Epoch 35 : mean_squared_error = 31.54287267888634 \n",
      " Epoch 36 : mean_squared_error = 34.17170273987607 \n",
      " Epoch 37 : mean_squared_error = 37.49331657631883 \n",
      " Epoch 38 : mean_squared_error = 36.165397397137 \n",
      " Epoch 39 : mean_squared_error = 34.92315500993945 \n",
      " Epoch 40 : mean_squared_error = 35.0251491262689 \n",
      " Epoch 41 : mean_squared_error = 27.94419857136254 \n",
      " Epoch 42 : mean_squared_error = 36.63332618787451 \n",
      " Epoch 43 : mean_squared_error = 32.25394677961528 \n",
      " Epoch 44 : mean_squared_error = 40.20383413864185 \n",
      " Epoch 45 : mean_squared_error = 35.36148022525133 \n",
      " Epoch 46 : mean_squared_error = 37.889062295068044 \n",
      " Epoch 47 : mean_squared_error = 34.05314605367222 \n",
      " Epoch 48 : mean_squared_error = 36.170223211393385 \n",
      " Epoch 49 : mean_squared_error = 36.22684587398393 \n",
      " Epoch 50 : mean_squared_error = 39.56112453621182 \n",
      " Epoch 51 : mean_squared_error = 32.18420695332647 \n",
      " Epoch 52 : mean_squared_error = 30.924184336245638 \n",
      " Epoch 53 : mean_squared_error = 38.084106111989435 \n",
      " Epoch 54 : mean_squared_error = 31.70806999576902 \n",
      " Epoch 55 : mean_squared_error = 31.593736593005726 \n",
      " Epoch 56 : mean_squared_error = 32.89442093241176 \n",
      " Epoch 57 : mean_squared_error = 35.05882294972738 \n",
      " Epoch 58 : mean_squared_error = 35.410747034264226 \n",
      " Epoch 59 : mean_squared_error = 35.164346466558264 \n",
      " Epoch 60 : mean_squared_error = 35.11764917713153 \n",
      " Epoch 61 : mean_squared_error = 30.06375285028254 \n",
      " Epoch 62 : mean_squared_error = 33.043678228137566 \n",
      " Epoch 63 : mean_squared_error = 33.192338616331035 \n",
      " Epoch 64 : mean_squared_error = 35.4378231381907 \n",
      " Epoch 65 : mean_squared_error = 30.962932031131484 \n",
      " Epoch 66 : mean_squared_error = 33.66893657820125 \n",
      " Epoch 67 : mean_squared_error = 32.45748716804974 \n",
      " Epoch 68 : mean_squared_error = 33.6292882876103 \n",
      " Epoch 69 : mean_squared_error = 39.02556655785027 \n",
      " Epoch 70 : mean_squared_error = 33.34506478664559 \n",
      " Epoch 71 : mean_squared_error = 35.341666940732296 \n",
      " Epoch 72 : mean_squared_error = 35.59715715426843 \n",
      " Epoch 73 : mean_squared_error = 32.13861180277704 \n",
      " Epoch 74 : mean_squared_error = 33.45009274158663 \n",
      " Epoch 75 : mean_squared_error = 32.213656045858144 \n",
      " Epoch 76 : mean_squared_error = 37.77787165965849 \n",
      " Epoch 77 : mean_squared_error = 37.009754440159476 \n",
      " Epoch 78 : mean_squared_error = 32.02668138769452 \n",
      " Epoch 79 : mean_squared_error = 38.69836517136459 \n",
      " Epoch 80 : mean_squared_error = 32.75714803899376 \n",
      " Epoch 81 : mean_squared_error = 37.34999346192986 \n",
      " Epoch 82 : mean_squared_error = 32.68294328856237 \n",
      " Epoch 83 : mean_squared_error = 38.6026760582785 \n",
      " Epoch 84 : mean_squared_error = 36.18720436713456 \n",
      " Epoch 85 : mean_squared_error = 30.885464714568794 \n",
      " Epoch 86 : mean_squared_error = 32.409580915876965 \n",
      " Epoch 87 : mean_squared_error = 32.924504733780054 \n",
      " Epoch 88 : mean_squared_error = 31.22063630607136 \n",
      " Epoch 89 : mean_squared_error = 27.92126157445815 \n",
      " Epoch 90 : mean_squared_error = 37.63834572455644 \n",
      " Epoch 91 : mean_squared_error = 33.53849209782375 \n",
      " Epoch 92 : mean_squared_error = 37.39113793481129 \n",
      " Epoch 93 : mean_squared_error = 32.4644924645285 \n",
      " Epoch 94 : mean_squared_error = 29.310715777202716 \n",
      " Epoch 95 : mean_squared_error = 30.005004481590294 \n",
      " Epoch 96 : mean_squared_error = 31.147573131573626 \n",
      " Epoch 97 : mean_squared_error = 32.48015778427371 \n",
      " Epoch 98 : mean_squared_error = 33.980091601127945 \n",
      " Epoch 99 : mean_squared_error = 30.895457091840726 \n",
      " Epoch 100 : mean_squared_error = 30.8884294874074 \n"
     ]
    }
   ],
   "source": [
    "list_of_mean_squared_error=[]\n",
    "for i in range(100):\n",
    "    xtrain,xtest,ytrain,ytest=train_test_split(predictors_norm,target,test_size=0.3) # spliting datasets into training(70%) and testing set(30%)\n",
    "    res=model.fit(xtrain,ytrain, epochs=100,verbose=0,validation_data=(xtest,ytest))# storing the value in variable res\n",
    "    mean_squared_error=res.history['val_loss'][-1]\n",
    "    # Adding a value of mean_squared_error in the list \n",
    "    list_of_mean_squared_error.append(mean_squared_error)\n",
    "    print(\" Epoch {} : mean_squared_error = {} \".format(i+1,mean_squared_error))"
   ]
  },
  {
   "cell_type": "code",
   "execution_count": 36,
   "metadata": {},
   "outputs": [
    {
     "name": "stdout",
     "output_type": "stream",
     "text": [
      "The mean of the mean squared errors =  37.90472390039068\n",
      "The standard deviation of the mean squared errors =  15.61232939777669\n"
     ]
    }
   ],
   "source": [
    "print('The mean of the mean squared errors = ',np.mean(list_of_mean_squared_error))\n",
    "print('The standard deviation of the mean squared errors = ',np.std(list_of_mean_squared_error))"
   ]
  },
  {
   "cell_type": "markdown",
   "metadata": {},
   "source": [
    "### The mean and the standard deviation of the mean squared errors in case C is less than in case B. But in both cases error is huge. In my opinion it's not a very good idea to compare result of two poor neural networks with one hidden layer only. Number of epoch does not help."
   ]
  },
  {
   "cell_type": "markdown",
   "metadata": {},
   "source": [
    "## D. Increase the number of hidden layers"
   ]
  },
  {
   "cell_type": "markdown",
   "metadata": {},
   "source": [
    "Repeat part B but use a neural network with the following instead:\n",
    "\n",
    "- Three hidden layers, each of 10 nodes and ReLU activation function.\n",
    "\n",
    "How does the mean of the mean squared errors compare to that from Step B?"
   ]
  },
  {
   "cell_type": "code",
   "execution_count": 37,
   "metadata": {},
   "outputs": [],
   "source": [
    "def regression_model4():\n",
    "    model4 = Sequential()\n",
    "    model4.add(Dense(10, activation='relu', input_shape=(ncols,)))\n",
    "    model4.add(Dense(10, activation='relu'))\n",
    "    model4.add(Dense(10, activation='relu'))\n",
    "    model4.add(Dense(1))\n",
    "    \n",
    "    model4.compile(optimizer='adam', loss='mean_squared_error')\n",
    "    return model4"
   ]
  },
  {
   "cell_type": "code",
   "execution_count": 38,
   "metadata": {},
   "outputs": [],
   "source": [
    "model4 = regression_model4()"
   ]
  },
  {
   "cell_type": "code",
   "execution_count": 39,
   "metadata": {},
   "outputs": [
    {
     "name": "stdout",
     "output_type": "stream",
     "text": [
      " Epoch 1 : mean_squared_error = 30.95370004400852 \n",
      " Epoch 2 : mean_squared_error = 31.878442400095917 \n",
      " Epoch 3 : mean_squared_error = 35.13899706868292 \n",
      " Epoch 4 : mean_squared_error = 35.35643921392249 \n",
      " Epoch 5 : mean_squared_error = 31.69708287137226 \n",
      " Epoch 6 : mean_squared_error = 31.332599726309667 \n",
      " Epoch 7 : mean_squared_error = 33.65150364008536 \n",
      " Epoch 8 : mean_squared_error = 32.190050813372466 \n",
      " Epoch 9 : mean_squared_error = 34.30197187997762 \n",
      " Epoch 10 : mean_squared_error = 25.789145448061255 \n",
      " Epoch 11 : mean_squared_error = 34.687626773871266 \n",
      " Epoch 12 : mean_squared_error = 30.841224423504183 \n",
      " Epoch 13 : mean_squared_error = 32.77521421068309 \n",
      " Epoch 14 : mean_squared_error = 32.18450870946001 \n",
      " Epoch 15 : mean_squared_error = 34.51255676121388 \n",
      " Epoch 16 : mean_squared_error = 31.6223039225853 \n",
      " Epoch 17 : mean_squared_error = 30.762098898779612 \n",
      " Epoch 18 : mean_squared_error = 30.927997638492524 \n",
      " Epoch 19 : mean_squared_error = 34.61592000819333 \n",
      " Epoch 20 : mean_squared_error = 32.47294986440912 \n",
      " Epoch 21 : mean_squared_error = 33.1541536818816 \n",
      " Epoch 22 : mean_squared_error = 29.613833430515523 \n",
      " Epoch 23 : mean_squared_error = 31.115479034127542 \n",
      " Epoch 24 : mean_squared_error = 38.02248844282527 \n",
      " Epoch 25 : mean_squared_error = 33.43747449152678 \n",
      " Epoch 26 : mean_squared_error = 32.50273244666436 \n",
      " Epoch 27 : mean_squared_error = 28.746400549188014 \n",
      " Epoch 28 : mean_squared_error = 33.10114331538623 \n",
      " Epoch 29 : mean_squared_error = 26.92951485717181 \n",
      " Epoch 30 : mean_squared_error = 31.123656035241186 \n",
      " Epoch 31 : mean_squared_error = 30.660975416115573 \n",
      " Epoch 32 : mean_squared_error = 30.96621749779167 \n",
      " Epoch 33 : mean_squared_error = 37.44510053122313 \n",
      " Epoch 34 : mean_squared_error = 29.884028518084182 \n",
      " Epoch 35 : mean_squared_error = 28.534384323169498 \n",
      " Epoch 36 : mean_squared_error = 29.329518055838676 \n",
      " Epoch 37 : mean_squared_error = 32.52505480818764 \n",
      " Epoch 38 : mean_squared_error = 32.617675929393585 \n",
      " Epoch 39 : mean_squared_error = 33.86155759941027 \n",
      " Epoch 40 : mean_squared_error = 31.71312309931783 \n",
      " Epoch 41 : mean_squared_error = 29.520968477317044 \n",
      " Epoch 42 : mean_squared_error = 27.92664577891526 \n",
      " Epoch 43 : mean_squared_error = 35.00462295013724 \n",
      " Epoch 44 : mean_squared_error = 29.365733316415337 \n",
      " Epoch 45 : mean_squared_error = 29.8224294039038 \n",
      " Epoch 46 : mean_squared_error = 31.25782874641295 \n",
      " Epoch 47 : mean_squared_error = 30.588905087566683 \n",
      " Epoch 48 : mean_squared_error = 27.413169163330473 \n",
      " Epoch 49 : mean_squared_error = 30.3997302009064 \n",
      " Epoch 50 : mean_squared_error = 33.58357356049868 \n"
     ]
    }
   ],
   "source": [
    "list_of_mean_squared_error=[]\n",
    "for i in range(50):\n",
    "    xtrain,xtest,ytrain,ytest=train_test_split(predictors_norm,target,test_size=0.3) # spliting datasets into training(70%) and testing set(30%)\n",
    "    res=model.fit(xtrain,ytrain, epochs=50,verbose=0,validation_data=(xtest,ytest))# storing the value in variable res\n",
    "    mean_squared_error=res.history['val_loss'][-1]\n",
    "    # Adding a value of mean_squared_error in the list \n",
    "    list_of_mean_squared_error.append(mean_squared_error)\n",
    "    print(\" Epoch {} : mean_squared_error = {} \".format(i+1,mean_squared_error))"
   ]
  },
  {
   "cell_type": "code",
   "execution_count": 40,
   "metadata": {},
   "outputs": [
    {
     "name": "stdout",
     "output_type": "stream",
     "text": [
      "The mean of the mean squared errors =  31.7572090613109\n",
      "The standard deviation of the mean squared errors =  2.485823597257911\n"
     ]
    }
   ],
   "source": [
    "print('The mean of the mean squared errors = ',np.mean(list_of_mean_squared_error))\n",
    "print('The standard deviation of the mean squared errors = ',np.std(list_of_mean_squared_error))"
   ]
  },
  {
   "cell_type": "markdown",
   "metadata": {},
   "source": [
    "#### The mean and the standard deviation of the mean squared errors in case D is less than in case A, B and C. And it's the only case where error is not very big. It means additional layers in neural network are more important than other things. Also it proves the comparison between poor neural network with one hidden layer in previous cases is a bad idea. Result can be unpredictable."
   ]
  },
  {
   "cell_type": "code",
   "execution_count": null,
   "metadata": {},
   "outputs": [],
   "source": []
  }
 ],
 "metadata": {
  "kernelspec": {
   "display_name": "Python",
   "language": "python",
   "name": "conda-env-python-py"
  },
  "language_info": {
   "codemirror_mode": {
    "name": "ipython",
    "version": 3
   },
   "file_extension": ".py",
   "mimetype": "text/x-python",
   "name": "python",
   "nbconvert_exporter": "python",
   "pygments_lexer": "ipython3",
   "version": "3.6.12"
  }
 },
 "nbformat": 4,
 "nbformat_minor": 4
}
